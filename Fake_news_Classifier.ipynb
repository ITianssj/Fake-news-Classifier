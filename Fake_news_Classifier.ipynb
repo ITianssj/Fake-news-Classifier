{
 "cells": [
  {
   "cell_type": "markdown",
   "id": "b8234cfa",
   "metadata": {},
   "source": [
    "# <b><center>Fake news Classifier</center></b>"
   ]
  },
  {
   "cell_type": "code",
   "execution_count": 1,
   "id": "c72d9c33",
   "metadata": {},
   "outputs": [
    {
     "data": {
      "text/html": [
       "<div>\n",
       "<style scoped>\n",
       "    .dataframe tbody tr th:only-of-type {\n",
       "        vertical-align: middle;\n",
       "    }\n",
       "\n",
       "    .dataframe tbody tr th {\n",
       "        vertical-align: top;\n",
       "    }\n",
       "\n",
       "    .dataframe thead th {\n",
       "        text-align: right;\n",
       "    }\n",
       "</style>\n",
       "<table border=\"1\" class=\"dataframe\">\n",
       "  <thead>\n",
       "    <tr style=\"text-align: right;\">\n",
       "      <th></th>\n",
       "      <th>id</th>\n",
       "      <th>title</th>\n",
       "      <th>author</th>\n",
       "      <th>text</th>\n",
       "      <th>label</th>\n",
       "    </tr>\n",
       "  </thead>\n",
       "  <tbody>\n",
       "    <tr>\n",
       "      <th>0</th>\n",
       "      <td>0</td>\n",
       "      <td>House Dem Aide: We Didn’t Even See Comey’s Let...</td>\n",
       "      <td>Darrell Lucus</td>\n",
       "      <td>House Dem Aide: We Didn’t Even See Comey’s Let...</td>\n",
       "      <td>1</td>\n",
       "    </tr>\n",
       "    <tr>\n",
       "      <th>1</th>\n",
       "      <td>1</td>\n",
       "      <td>FLYNN: Hillary Clinton, Big Woman on Campus - ...</td>\n",
       "      <td>Daniel J. Flynn</td>\n",
       "      <td>Ever get the feeling your life circles the rou...</td>\n",
       "      <td>0</td>\n",
       "    </tr>\n",
       "    <tr>\n",
       "      <th>2</th>\n",
       "      <td>2</td>\n",
       "      <td>Why the Truth Might Get You Fired</td>\n",
       "      <td>Consortiumnews.com</td>\n",
       "      <td>Why the Truth Might Get You Fired October 29, ...</td>\n",
       "      <td>1</td>\n",
       "    </tr>\n",
       "    <tr>\n",
       "      <th>3</th>\n",
       "      <td>3</td>\n",
       "      <td>15 Civilians Killed In Single US Airstrike Hav...</td>\n",
       "      <td>Jessica Purkiss</td>\n",
       "      <td>Videos 15 Civilians Killed In Single US Airstr...</td>\n",
       "      <td>1</td>\n",
       "    </tr>\n",
       "    <tr>\n",
       "      <th>4</th>\n",
       "      <td>4</td>\n",
       "      <td>Iranian woman jailed for fictional unpublished...</td>\n",
       "      <td>Howard Portnoy</td>\n",
       "      <td>Print \\nAn Iranian woman has been sentenced to...</td>\n",
       "      <td>1</td>\n",
       "    </tr>\n",
       "  </tbody>\n",
       "</table>\n",
       "</div>"
      ],
      "text/plain": [
       "   id                                              title              author  \\\n",
       "0   0  House Dem Aide: We Didn’t Even See Comey’s Let...       Darrell Lucus   \n",
       "1   1  FLYNN: Hillary Clinton, Big Woman on Campus - ...     Daniel J. Flynn   \n",
       "2   2                  Why the Truth Might Get You Fired  Consortiumnews.com   \n",
       "3   3  15 Civilians Killed In Single US Airstrike Hav...     Jessica Purkiss   \n",
       "4   4  Iranian woman jailed for fictional unpublished...      Howard Portnoy   \n",
       "\n",
       "                                                text  label  \n",
       "0  House Dem Aide: We Didn’t Even See Comey’s Let...      1  \n",
       "1  Ever get the feeling your life circles the rou...      0  \n",
       "2  Why the Truth Might Get You Fired October 29, ...      1  \n",
       "3  Videos 15 Civilians Killed In Single US Airstr...      1  \n",
       "4  Print \\nAn Iranian woman has been sentenced to...      1  "
      ]
     },
     "execution_count": 1,
     "metadata": {},
     "output_type": "execute_result"
    }
   ],
   "source": [
    "#Read Dataset\n",
    "\n",
    "import pandas as pd\n",
    "import numpy as np\n",
    "\n",
    "df = pd.read_csv('train.csv',index_col='id')\n",
    "df.dropna(inplace=True)\n",
    "df.reset_index(inplace=True)\n",
    "df.head()"
   ]
  },
  {
   "cell_type": "code",
   "execution_count": 2,
   "id": "88d53eb0",
   "metadata": {},
   "outputs": [],
   "source": [
    "#Cleaning Dataset\n",
    "x = df['title']\n",
    "y = df['label']"
   ]
  },
  {
   "cell_type": "code",
   "execution_count": 3,
   "id": "44b52a27",
   "metadata": {},
   "outputs": [],
   "source": [
    "import re\n",
    "import nltk\n",
    "from nltk.corpus import stopwords\n",
    "from nltk.stem.porter import PorterStemmer\n",
    "\n",
    "ps = PorterStemmer()\n",
    "corpus = []\n",
    "\n",
    "for i in range(len(x)):\n",
    "    text = x[i]\n",
    "    text = re.sub('[^a-zA-Z]',' ',text)\n",
    "    text = text.lower()\n",
    "    text = text.split()\n",
    "    text = [ps.stem(t) for t in text if t not in stopwords.words('english')]\n",
    "    corpus.append(' '.join(text))"
   ]
  },
  {
   "cell_type": "markdown",
   "id": "fcf803ed",
   "metadata": {},
   "source": [
    "- Here, we are navigating through X before cleaning up our data with regex and storing it in a corpus list.\n",
    "\n",
    "- First of all, a space will be added in place of everything that is not an alphabet.\n",
    "\n",
    "- Then it will be separated and lowercased.\n",
    "\n",
    "- Then we check to see if the words are stopwords before stemming them.\n",
    "\n",
    "- Join these results together to form a sentence, then add it to the corpus list."
   ]
  },
  {
   "cell_type": "code",
   "execution_count": 4,
   "id": "46365f92",
   "metadata": {},
   "outputs": [
    {
     "data": {
      "text/plain": [
       "array([   0,    0,    0,    0,    0,    0,    0,    0,    0,    0, 1028,\n",
       "        804, 4382, 4279, 3109, 3693, 1338,  178, 1432, 1373])"
      ]
     },
     "execution_count": 4,
     "metadata": {},
     "output_type": "execute_result"
    }
   ],
   "source": [
    "from tensorflow.keras.preprocessing.text import one_hot\n",
    "from tensorflow.keras.preprocessing.sequence import pad_sequences\n",
    "\n",
    "vocab_size = 5000\n",
    "sent_len = 20\n",
    "\n",
    "one_hot_encoded = [one_hot(x,vocab_size) for x in corpus]\n",
    "one_hot_encoded = pad_sequences(one_hot_encoded,maxlen=sent_len)\n",
    "one_hot_encoded[0]"
   ]
  },
  {
   "cell_type": "markdown",
   "id": "1fc35807",
   "metadata": {},
   "source": [
    "- Here, we are utilising one hot to encode our text input to numerical data.\n",
    "- Keep in mind that this heat is not all 0s and 1s. In this one-hot encoding, the word is given a random number by means of hashing. The range 0-vocab size is used to select the random word.\n",
    "- The sequences are then being padded with 0s to equalise the length of each line."
   ]
  },
  {
   "cell_type": "code",
   "execution_count": 5,
   "id": "ead82bf3",
   "metadata": {},
   "outputs": [],
   "source": [
    "from sklearn.model_selection import train_test_split\n",
    "x = np.array(one_hot_encoded)\n",
    "y = np.array(y)\n",
    "\n",
    "x_train,x_test,y_train,y_test = train_test_split(x,y,test_size=0.33,random_state=42)\n"
   ]
  },
  {
   "cell_type": "code",
   "execution_count": 6,
   "id": "94039d02",
   "metadata": {},
   "outputs": [
    {
     "name": "stdout",
     "output_type": "stream",
     "text": [
      "Model: \"sequential\"\n",
      "_________________________________________________________________\n",
      " Layer (type)                Output Shape              Param #   \n",
      "=================================================================\n",
      " embedding (Embedding)       (None, 20, 40)            200000    \n",
      "                                                                 \n",
      " dropout (Dropout)           (None, 20, 40)            0         \n",
      "                                                                 \n",
      " lstm (LSTM)                 (None, 100)               56400     \n",
      "                                                                 \n",
      " dropout_1 (Dropout)         (None, 100)               0         \n",
      "                                                                 \n",
      " dense (Dense)               (None, 1)                 101       \n",
      "                                                                 \n",
      "=================================================================\n",
      "Total params: 256,501\n",
      "Trainable params: 256,501\n",
      "Non-trainable params: 0\n",
      "_________________________________________________________________\n"
     ]
    }
   ],
   "source": [
    "#Creating the model\n",
    "import tensorflow as tf\n",
    "from tensorflow.keras.models import Sequential\n",
    "from sklearn.metrics import confusion_matrix,accuracy_score\n",
    "from tensorflow.keras.preprocessing.sequence import pad_sequences\n",
    "from tensorflow.keras.layers import Embedding,LSTM,Dense,Dropout\n",
    "\n",
    "\n",
    "no_of_output_features = 40\n",
    "\n",
    "model = Sequential()\n",
    "model.add(Embedding(vocab_size,no_of_output_features,input_length=sent_len))\n",
    "model.add(Dropout(0.5))\n",
    "model.add(LSTM(100))\n",
    "model.add(Dropout(0.5))\n",
    "model.add(Dense(1))\n",
    "\n",
    "model.compile(optimizer='adam',loss='binary_crossentropy',metrics=['accuracy'])\n",
    "model.summary()\n"
   ]
  },
  {
   "cell_type": "code",
   "execution_count": 18,
   "id": "ae860bb5",
   "metadata": {},
   "outputs": [
    {
     "name": "stdout",
     "output_type": "stream",
     "text": [
      "Epoch 1/10\n",
      "192/192 [==============================] - 5s 24ms/step - loss: 0.0469 - accuracy: 0.9964 - val_loss: 1.1543 - val_accuracy: 0.9079\n",
      "Epoch 2/10\n",
      "192/192 [==============================] - 5s 24ms/step - loss: 0.0515 - accuracy: 0.9948 - val_loss: 1.1565 - val_accuracy: 0.9070\n",
      "Epoch 3/10\n",
      "192/192 [==============================] - 5s 24ms/step - loss: 0.0498 - accuracy: 0.9957 - val_loss: 1.1945 - val_accuracy: 0.9051\n",
      "Epoch 4/10\n",
      "192/192 [==============================] - 5s 24ms/step - loss: 0.0457 - accuracy: 0.9961 - val_loss: 1.1623 - val_accuracy: 0.9067\n",
      "Epoch 5/10\n",
      "192/192 [==============================] - 5s 24ms/step - loss: 0.0441 - accuracy: 0.9967 - val_loss: 1.1740 - val_accuracy: 0.9077\n",
      "Epoch 6/10\n",
      "192/192 [==============================] - 5s 24ms/step - loss: 0.0460 - accuracy: 0.9968 - val_loss: 1.1337 - val_accuracy: 0.9115\n",
      "Epoch 7/10\n",
      "192/192 [==============================] - 5s 24ms/step - loss: 0.0455 - accuracy: 0.9967 - val_loss: 1.1660 - val_accuracy: 0.9094\n",
      "Epoch 8/10\n",
      "192/192 [==============================] - 5s 25ms/step - loss: 0.0465 - accuracy: 0.9957 - val_loss: 1.1536 - val_accuracy: 0.9092\n",
      "Epoch 9/10\n",
      "192/192 [==============================] - 5s 25ms/step - loss: 0.0547 - accuracy: 0.9939 - val_loss: 1.1910 - val_accuracy: 0.9039\n",
      "Epoch 10/10\n",
      "192/192 [==============================] - 5s 25ms/step - loss: 0.0551 - accuracy: 0.9936 - val_loss: 1.1419 - val_accuracy: 0.9069\n"
     ]
    },
    {
     "data": {
      "text/plain": [
       "<keras.callbacks.History at 0x1dfb4c58fd0>"
      ]
     },
     "execution_count": 18,
     "metadata": {},
     "output_type": "execute_result"
    }
   ],
   "source": [
    "model.fit(x_train,y_train,validation_data=(x_test,y_test),batch_size=64,epochs=10)"
   ]
  },
  {
   "cell_type": "code",
   "execution_count": 19,
   "id": "2506ee1e",
   "metadata": {},
   "outputs": [
    {
     "data": {
      "text/plain": [
       "0.9068765534382767"
      ]
     },
     "execution_count": 19,
     "metadata": {},
     "output_type": "execute_result"
    }
   ],
   "source": [
    "#Checking metrics of the model\n",
    "\n",
    "predictions = (model.predict(x_test) > 0.5).astype(\"int32\")\n",
    "accuracy_score(y_test,predictions)"
   ]
  },
  {
   "cell_type": "code",
   "execution_count": null,
   "id": "b6d992af",
   "metadata": {},
   "outputs": [],
   "source": []
  }
 ],
 "metadata": {
  "kernelspec": {
   "display_name": "Python 3 (ipykernel)",
   "language": "python",
   "name": "python3"
  },
  "language_info": {
   "codemirror_mode": {
    "name": "ipython",
    "version": 3
   },
   "file_extension": ".py",
   "mimetype": "text/x-python",
   "name": "python",
   "nbconvert_exporter": "python",
   "pygments_lexer": "ipython3",
   "version": "3.11.5"
  }
 },
 "nbformat": 4,
 "nbformat_minor": 5
}
